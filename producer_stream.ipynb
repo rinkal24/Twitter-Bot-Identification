{
 "cells": [
  {
   "cell_type": "code",
   "execution_count": 1,
   "metadata": {},
   "outputs": [],
   "source": [
    "import tweepy\n",
    "from tweepy import API\n",
    "from kafka import KafkaConsumer, KafkaProducer\n",
    "from tweepy.streaming import StreamListener\n",
    "from tweepy import OAuthHandler\n",
    "from tweepy import Stream\n",
    "import json"
   ]
  },
  {
   "cell_type": "markdown",
   "metadata": {},
   "source": [
    "### Twitter API access"
   ]
  },
  {
   "cell_type": "code",
   "execution_count": 2,
   "metadata": {},
   "outputs": [],
   "source": [
    "consumer_key = ''\n",
    "consumer_secret = ''\n",
    "access_token = ''\n",
    "access_token_secret = ''\n",
    "\n",
    "auth = tweepy.OAuthHandler(consumer_key, consumer_secret)\n",
    "auth.set_access_token(access_token, access_token_secret)\n",
    "api = tweepy.API(auth,wait_on_rate_limit=True)"
   ]
  },
  {
   "cell_type": "markdown",
   "metadata": {},
   "source": [
    "# Kafka Producer"
   ]
  },
  {
   "cell_type": "code",
   "execution_count": 3,
   "metadata": {},
   "outputs": [],
   "source": [
    "producer = KafkaProducer(bootstrap_servers='localhost:9092',api_version=(0,1,0))\n",
    "topic_name = 'bots'"
   ]
  },
  {
   "cell_type": "code",
   "execution_count": 4,
   "metadata": {},
   "outputs": [],
   "source": [
    "def get_twitter_data():\n",
    "    hashtags = ['#RiyazNaikoo OR #CleanKashmir','#Aurangabad','#CongressForIndia OR #ArrestArnab',\\\n",
    "                '#NarendraModi OR #NaMo OR #BJPIndia OR #bjpindia OR #AmitShah OR #ArvindKejriwal OR #BJP',\\\n",
    "                '#HumModiKeSathHain OR #WhyBJPhatesDelhi','#IndianPolitics OR #IForIndia',\\\n",
    "                '#RahulFightsForIndia OR #UddhavMustAnswers','#isupportSudhirchaudhary OR #ISupportSudhirChoudhary',\\\n",
    "                '#IndiaWithZee OR #IndiaIsNotWithZeeNews']\n",
    "    for hashtag in hashtags:\n",
    "        res = api.search(hashtag,tweet_mode='extended')\n",
    "\n",
    "        for tweet in res:\n",
    "            if not tweet.user.verified:\n",
    "                screen_name = tweet.user.screen_name\n",
    "                screen_name = screen_name.replace('\\n',' ').replace('\\r',' ')\n",
    "                description = tweet.user.description\n",
    "                description = description.replace('\\n',' ').replace('\\r',' ')\n",
    "                location = tweet.user.location\n",
    "                location=location.replace('\\n',' ')\n",
    "                followers_count = tweet.user.followers_count\n",
    "                friends_count = tweet.user.friends_count            \n",
    "                listedcount = tweet.user.listed_count\n",
    "                favourites_count = tweet.user.favourites_count\n",
    "                statuses_count = tweet.user.statuses_count\n",
    "                default_profile = tweet.user.default_profile\n",
    "\n",
    "                row = {\n",
    "                    \"screen_name\" : str(screen_name),\n",
    "                    \"description\" : str(description),\n",
    "                    \"location\" : str(location),\n",
    "                    \"followers_count\": followers_count,\n",
    "                    \"friends_count\" : friends_count,\n",
    "                    \"listedcount\" : listedcount,\n",
    "                    \"favourites_count\": favourites_count,\n",
    "                    \"statuses_count\" : statuses_count,\n",
    "                    \"default_profile\" : default_profile\n",
    "                }\n",
    "\n",
    "                print(row)\n",
    "\n",
    "                producer.send(topic_name, value = json.dumps(row).encode('utf-8'))"
   ]
  },
  {
   "cell_type": "code",
   "execution_count": 3,
   "metadata": {},
   "outputs": [],
   "source": [
    "def periodic_work(interval):\n",
    "    while True:\n",
    "        get_twitter_data()"
   ]
  },
  {
   "cell_type": "markdown",
   "metadata": {},
   "source": [
    "### Kafka Data Streaming"
   ]
  },
  {
   "cell_type": "code",
   "execution_count": null,
   "metadata": {},
   "outputs": [],
   "source": [
    "periodic_work(1)"
   ]
  },
  {
   "cell_type": "code",
   "execution_count": null,
   "metadata": {},
   "outputs": [],
   "source": [
    "producer.flush()"
   ]
  },
  {
   "cell_type": "code",
   "execution_count": null,
   "metadata": {},
   "outputs": [],
   "source": [
    "producer.close()"
   ]
  },
  {
   "cell_type": "code",
   "execution_count": null,
   "metadata": {},
   "outputs": [],
   "source": []
  }
 ],
 "metadata": {
  "kernelspec": {
   "display_name": "Python 3",
   "language": "python",
   "name": "python3"
  },
  "language_info": {
   "codemirror_mode": {
    "name": "ipython",
    "version": 3
   },
   "file_extension": ".py",
   "mimetype": "text/x-python",
   "name": "python",
   "nbconvert_exporter": "python",
   "pygments_lexer": "ipython3",
   "version": "3.8.2"
  }
 },
 "nbformat": 4,
 "nbformat_minor": 2
}
