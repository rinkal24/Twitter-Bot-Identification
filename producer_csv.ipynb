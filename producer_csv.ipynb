{
 "cells": [
  {
   "cell_type": "code",
   "execution_count": 1,
   "metadata": {},
   "outputs": [],
   "source": [
    "from kafka import KafkaProducer\n",
    "import json\n",
    "import csv"
   ]
  },
  {
   "cell_type": "markdown",
   "metadata": {},
   "source": [
    "# Kafka Producer"
   ]
  },
  {
   "cell_type": "code",
   "execution_count": 2,
   "metadata": {},
   "outputs": [],
   "source": [
    "producer = KafkaProducer(bootstrap_servers='localhost:9092',api_version=(0,1,0))\n",
    "topic_name = 'bots'"
   ]
  },
  {
   "cell_type": "code",
   "execution_count": 3,
   "metadata": {},
   "outputs": [
    {
     "name": "stdout",
     "output_type": "stream",
     "text": [
      "Total user in Kafka Stream:  1048574\n"
     ]
    }
   ],
   "source": [
    "with open('tweets.csv', mode='r', encoding='ISO-8859-1') as csv_file:\n",
    "    csv_reader = csv.DictReader(csv_file)\n",
    "    lc = 0\n",
    "    for row in csv_reader:\n",
    "        if lc == 0:\n",
    "            lc += 1\n",
    "            continue\n",
    "        else:\n",
    "            lc += 1\n",
    "            screen_name = row['username']\n",
    "            screen_name = screen_name.replace('\\n',' ').replace('\\r',' ')\n",
    "            description = row['acctdesc']\n",
    "            description = description.replace('\\n',' ').replace('\\r',' ')\n",
    "            location = row['location']\n",
    "            location=location.replace('\\n',' ')\n",
    "            followers_count = row['followers']\n",
    "            friends_count = row['following']\n",
    "            listedcount = row['listed_count']\n",
    "            favourites_count = row['favourites_count']\n",
    "            statuses_count = row['totaltweets']\n",
    "            if int(row['default_profile_image']) == 1:\n",
    "                default_profile = True\n",
    "            else:\n",
    "                default_profile = False\n",
    "            user_info = {\n",
    "                \"screen_name\" : str(screen_name),\n",
    "                \"description\" : str(description),\n",
    "                \"location\" : str(location),\n",
    "                \"followers_count\": followers_count,\n",
    "                \"friends_count\" : friends_count,\n",
    "                \"listedcount\" : listedcount,\n",
    "                \"favourites_count\": favourites_count,\n",
    "                \"statuses_count\" : statuses_count,\n",
    "                \"default_profile\" : default_profile\n",
    "            }\n",
    "            producer.send(topic_name, value = json.dumps(user_info).encode('utf-8'))\n",
    "    print(\"Total user in Kafka Stream: \", lc)"
   ]
  },
  {
   "cell_type": "code",
   "execution_count": 4,
   "metadata": {},
   "outputs": [],
   "source": [
    "producer.flush()"
   ]
  },
  {
   "cell_type": "code",
   "execution_count": 5,
   "metadata": {},
   "outputs": [],
   "source": [
    "producer.close()"
   ]
  },
  {
   "cell_type": "code",
   "execution_count": null,
   "metadata": {},
   "outputs": [],
   "source": []
  }
 ],
 "metadata": {
  "kernelspec": {
   "display_name": "Python 3",
   "language": "python",
   "name": "python3"
  },
  "language_info": {
   "codemirror_mode": {
    "name": "ipython",
    "version": 3
   },
   "file_extension": ".py",
   "mimetype": "text/x-python",
   "name": "python",
   "nbconvert_exporter": "python",
   "pygments_lexer": "ipython3",
   "version": "3.8.2"
  }
 },
 "nbformat": 4,
 "nbformat_minor": 2
}
